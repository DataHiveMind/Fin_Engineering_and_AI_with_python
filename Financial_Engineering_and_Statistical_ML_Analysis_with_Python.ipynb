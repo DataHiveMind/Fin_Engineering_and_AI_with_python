{
  "nbformat": 4,
  "nbformat_minor": 0,
  "metadata": {
    "colab": {
      "provenance": [],
      "toc_visible": true,
      "authorship_tag": "ABX9TyPJY/3zynw3iZ6yZqvdyXxR",
      "include_colab_link": true
    },
    "kernelspec": {
      "name": "python3",
      "display_name": "Python 3"
    },
    "language_info": {
      "name": "python"
    }
  },
  "cells": [
    {
      "cell_type": "markdown",
      "metadata": {
        "id": "view-in-github",
        "colab_type": "text"
      },
      "source": [
        "<a href=\"https://colab.research.google.com/github/DataHiveMind/Fin_Engineering_and_AI_with_python/blob/main/Financial_Engineering_and_Statistical_ML_Analysis_with_Python.ipynb\" target=\"_parent\"><img src=\"https://colab.research.google.com/assets/colab-badge.svg\" alt=\"Open In Colab\"/></a>"
      ]
    },
    {
      "cell_type": "markdown",
      "source": [
        "# Objective:\n",
        "- None\n",
        "\n",
        "# Approach:\n",
        "1. Loading Finanical Data then doing Data Preprocessing and Explorory Data Analysis(EDA)\n",
        "\n",
        "2. Deep Diving into Time Series Analysis to understand a companies best time perfomance and its worst\n",
        "\n",
        "3. Create Algorithmns to optimizie a portfolio and CAPM\n",
        "\n",
        "4. Create Algortimic Tradin galgorithmns to find the most portfitable Strategies\n",
        "\n",
        "5. Use Reinformaent Learning to use senitment analysis in stocks to see how poeple view each company"
      ],
      "metadata": {
        "id": "tP-zjP9dQUbu"
      }
    },
    {
      "cell_type": "code",
      "execution_count": null,
      "metadata": {
        "id": "CCunOtaBOMMF"
      },
      "outputs": [],
      "source": [
        "import yfinance as yf\n",
        "import os\n",
        "import pandas as pd\n",
        "import random\n",
        "from glob import glob\n",
        "import numpy as np\n",
        "import matplotlib.pyplot as plt\n",
        "from scipy.stats import norm"
      ]
    },
    {
      "cell_type": "markdown",
      "source": [
        "# Loading Financial data and EDA"
      ],
      "metadata": {
        "id": "oTnRNBmYQnKk"
      }
    },
    {
      "cell_type": "code",
      "source": [
        "# Getting Financial Data from the Financial Data Source\n",
        "Symbols  = [\"MSFT\", \"AMZN\", \"GOOG\", \"IBM\"]\n",
        "\n",
        "if not os.path.exists('data'):\n",
        "    os.mkdir('data')\n",
        "\n",
        "for symbol in Symbols:\n",
        "    if not os.path.exists(f\"data/{symbol}.csv\"):\n",
        "        data = yf.download(symbol, start = \"2010-01-01\", end = \"2018-12-31\")\n",
        "        if data.size > 0:\n",
        "            data.to_csv(f\"data/{symbol}.csv\")\n",
        "        else:\n",
        "            print(\"Not Saving...\")\n",
        "\n",
        "for symbol in Symbols:\n",
        "    s = open(f\"data/{symbol}.csv\").readlines()\n",
        "    if len(s) < 10:\n",
        "        os.system(f\"rm data/{symbol}.csv\")"
      ],
      "metadata": {
        "id": "0ZaNy6LUOlwt",
        "colab": {
          "base_uri": "https://localhost:8080/"
        },
        "outputId": "a138fb4e-020f-4fbc-f83c-fa428096674d"
      },
      "execution_count": null,
      "outputs": [
        {
          "output_type": "stream",
          "name": "stderr",
          "text": [
            "\r[*********************100%***********************]  1 of 1 completed\n"
          ]
        }
      ]
    },
    {
      "cell_type": "code",
      "source": [
        "files = glob('data/*.csv')\n",
        "full_df = None\n",
        "\n",
        "for f in files:\n",
        "    print(f)\n",
        "    df = pd.read_csv(f)\n",
        "\n",
        "    symbol = f.split('/')[1].split('.')[0]\n",
        "    df['name'] = symbol\n",
        "\n",
        "    if full_df is None:\n",
        "        full_df = df\n",
        "    else:\n",
        "        full_df = full_df.append(df, ignore_index = True)"
      ],
      "metadata": {
        "id": "Qxz9q3VAOluP"
      },
      "execution_count": null,
      "outputs": []
    },
    {
      "cell_type": "code",
      "source": [
        "from google.colab import drive\n",
        "drive.mount('/content/drive')"
      ],
      "metadata": {
        "id": "R6TuKfSAPKNT"
      },
      "execution_count": null,
      "outputs": []
    },
    {
      "cell_type": "code",
      "source": [
        "df = pd.read_csv(\"/content/all_stocks_5yr.csv\")\n",
        "df.head()"
      ],
      "metadata": {
        "id": "8WnMzYprOlrl"
      },
      "execution_count": null,
      "outputs": []
    },
    {
      "cell_type": "code",
      "source": [
        "df['Name'].unique()"
      ],
      "metadata": {
        "id": "RTZZ8HDxOlpk"
      },
      "execution_count": null,
      "outputs": []
    },
    {
      "cell_type": "code",
      "source": [
        "df[df['Name'] == 'IBM'].head()"
      ],
      "metadata": {
        "id": "BAFJSOklOloJ"
      },
      "execution_count": null,
      "outputs": []
    },
    {
      "cell_type": "code",
      "source": [
        "ibm = df[df['Name'] == 'IBM']\n",
        "ibm[\"close\"].plot()"
      ],
      "metadata": {
        "id": "uglXHxH4OlmS"
      },
      "execution_count": null,
      "outputs": []
    },
    {
      "cell_type": "code",
      "source": [
        "df['date'].min(), df['date'].max()"
      ],
      "metadata": {
        "id": "RNUmZZ0ZOljh"
      },
      "execution_count": null,
      "outputs": []
    },
    {
      "cell_type": "code",
      "source": [
        "dates = pd.date_range(df['date'].min(), df['date'].max())\n",
        "print(dates)"
      ],
      "metadata": {
        "id": "wfG10R66PM3t"
      },
      "execution_count": null,
      "outputs": []
    },
    {
      "cell_type": "code",
      "source": [
        "# Changing dataframe for close price\n",
        "close_price = pd.DataFrame(index = dates)\n",
        "symbols = df['Name'].unique()\n",
        "\n",
        "df2 = pd.DataFrame(data = ibm['close'].to_numpy(),\n",
        "                   index=ibm['date'], columns = ['IBM'])\n",
        "df2.head()"
      ],
      "metadata": {
        "id": "4jtgJp6jPM2L"
      },
      "execution_count": null,
      "outputs": []
    },
    {
      "cell_type": "code",
      "source": [
        "# Fill in our close prices dataframe\n",
        "for symbol in symbols:\n",
        "  df_sym = df[df['Name'] == symbol]\n",
        "  df_tmp = pd.DataFrame(data = df_sym['close'].to_numpy(),\n",
        "                   index= df_sym['date'], columns = [symbol])\n",
        "  close_price = close_price.join(df_tmp) # left-join by defualt"
      ],
      "metadata": {
        "id": "suAG-vZiPMzO"
      },
      "execution_count": null,
      "outputs": []
    },
    {
      "cell_type": "code",
      "source": [
        "close_price.head()"
      ],
      "metadata": {
        "id": "qEoD9FA7PMxD"
      },
      "execution_count": null,
      "outputs": []
    },
    {
      "cell_type": "code",
      "source": [
        "!head sp500_close.csv"
      ],
      "metadata": {
        "id": "z-tx6HtLPMuz"
      },
      "execution_count": null,
      "outputs": []
    },
    {
      "cell_type": "code",
      "source": [
        "close = pd.read_csv('sp500_close.csv', index_col = 0, parse_dates = True)\n",
        "close.head()"
      ],
      "metadata": {
        "id": "Gm21n2nfPMtO"
      },
      "execution_count": null,
      "outputs": []
    },
    {
      "cell_type": "code",
      "source": [
        "close['IBM'].plot()"
      ],
      "metadata": {
        "id": "gK5SkqJ2PMqd"
      },
      "execution_count": null,
      "outputs": []
    },
    {
      "cell_type": "code",
      "source": [
        "# How to Deal with Missing Data\n",
        "close.dropna(axis = 0, how = \"all\", inplace = True)\n",
        "close['IBM'].plot()"
      ],
      "metadata": {
        "id": "VTVfQygEPXFc"
      },
      "execution_count": null,
      "outputs": []
    },
    {
      "cell_type": "code",
      "source": [
        "close.isna().sum()"
      ],
      "metadata": {
        "id": "hSYPNPvJPXDK"
      },
      "execution_count": null,
      "outputs": []
    },
    {
      "cell_type": "code",
      "source": [
        "# find any backwards filled stock data\n",
        "close.iloc[0,:].isna().sum()\n",
        "# fill NA values\n",
        "close.fillna(method = 'ffill', inplace = True)"
      ],
      "metadata": {
        "id": "xqv6HFb1PXAq"
      },
      "execution_count": null,
      "outputs": []
    },
    {
      "cell_type": "code",
      "source": [
        "close.isna().sum().sum()"
      ],
      "metadata": {
        "id": "oydqMNN0PW-U"
      },
      "execution_count": null,
      "outputs": []
    },
    {
      "cell_type": "code",
      "source": [
        "close.fillna(method = 'bfill', inplace = True)\n",
        "close.isna().sum().sum()"
      ],
      "metadata": {
        "id": "e1fppe4vR_KB"
      },
      "execution_count": null,
      "outputs": []
    },
    {
      "cell_type": "code",
      "source": [
        "close.isna().sum().sum()"
      ],
      "metadata": {
        "id": "TfSt-K_fSFZJ"
      },
      "execution_count": null,
      "outputs": []
    },
    {
      "cell_type": "code",
      "source": [
        "close.plot(legend = False, figsize=(10,10))"
      ],
      "metadata": {
        "id": "jh9qA2kmPW8K"
      },
      "execution_count": null,
      "outputs": []
    },
    {
      "cell_type": "code",
      "source": [
        "# normalized data\n",
        "close_norm = close / close.iloc[0]\n",
        "close_norm.plot(legend = False, figsize = (10,10))"
      ],
      "metadata": {
        "id": "uTDN-1p3Pl47"
      },
      "execution_count": null,
      "outputs": []
    },
    {
      "cell_type": "code",
      "source": [
        "# Adjusted Close, Using sp500sub.csv if possible\n",
        "df = pd.read_csv('sp500sub.csv', index_col = 'Date', parse_dates = True)\n",
        "print(df.head())\n",
        "\n",
        "goog = df[df[\"Name\"] =='GOOG']\n",
        "goog[['Close', 'Adj Close']].plot(figsize = (10,10))\n",
        "\n",
        "aapl = df[df['Name'] == 'AAPL']\n",
        "aapl[['Close', 'Adj Close']].plot(figsize = (10,10))"
      ],
      "metadata": {
        "id": "kHk-dDZKPl1F"
      },
      "execution_count": null,
      "outputs": []
    },
    {
      "cell_type": "code",
      "source": [
        "# Returns\n",
        "data = pd.read_csv('all_stocks_5yr.csv', parse_dates = True)\n",
        "sbux = data[data[\"Name\"]=='SBUX'].copy()\n",
        "sbux.head()\n",
        "sbux['close'].plot()"
      ],
      "metadata": {
        "id": "y5Cw_D-WYoIR"
      },
      "execution_count": null,
      "outputs": []
    },
    {
      "cell_type": "code",
      "source": [
        "# Calulate Return\n",
        "sbux['prev_close'] = sbux['close'].shift(1)\n",
        "sbux.head()"
      ],
      "metadata": {
        "id": "cK1Aa3sdYT49"
      },
      "execution_count": null,
      "outputs": []
    },
    {
      "cell_type": "code",
      "source": [
        "sbux['return'] = sbux[\"close\"]/sbux['prev_close']-1\n",
        "sbux.head()"
      ],
      "metadata": {
        "id": "lXNVZiQbYYwb"
      },
      "execution_count": null,
      "outputs": []
    },
    {
      "cell_type": "code",
      "source": [
        "sbux['return2'] = sbux['close'].pct_change(1)\n",
        "sbux.head()"
      ],
      "metadata": {
        "id": "qfcb4P_2YbJX"
      },
      "execution_count": null,
      "outputs": []
    },
    {
      "cell_type": "code",
      "source": [
        "sbux[\"return\"].hist(bins = 100)\n",
        "sbux['log_return'] =np.log(sbux['return']+1)\n",
        "sbux.head()"
      ],
      "metadata": {
        "id": "L1wxxCRfYhFC"
      },
      "execution_count": null,
      "outputs": []
    },
    {
      "cell_type": "code",
      "source": [
        "sbux['log_return'].hist(bins = 1000)\n",
        "print(\"Mean of sbux: \", sbux['log_return'].mean())\n",
        "print(\"Std of sbux: \", sbux['log_return'].std())"
      ],
      "metadata": {
        "id": "lqq18pYCYmSL"
      },
      "execution_count": null,
      "outputs": []
    },
    {
      "cell_type": "code",
      "source": [
        "# QQ-Plot\n",
        "from scipy.stats import norm\n",
        "\n",
        "x_list = np.linspace(sbux['return'].min(),\n",
        "                     sbux['return'].max(),100)\n",
        "\n",
        "y_list = norm.pdf(x_list,\n",
        "                  loc = sbux['return'].mean(),\n",
        "                  scale = sbux['return'].std())\n",
        "\n",
        "plt.plot(x_list, y_list)\n",
        "sbux['return'].hist(bins = 100, density = True)"
      ],
      "metadata": {
        "id": "H2HhnYl5Plwf"
      },
      "execution_count": null,
      "outputs": []
    },
    {
      "cell_type": "code",
      "source": [
        "from scipy.stats import probplot\n",
        "\n",
        "probplot(sbux['return'].dropna(),\n",
        "         dist = 'norm',\n",
        "         fit = True,\n",
        "         plot = plt)"
      ],
      "metadata": {
        "id": "FlWgdr7-b5Mj"
      },
      "execution_count": null,
      "outputs": []
    },
    {
      "cell_type": "code",
      "source": [
        "import statsmodels.api as sm\n",
        "\n",
        "sm.qqplot(sbux[\"return\"].dropna(), line = 's')"
      ],
      "metadata": {
        "id": "_NHq5grEcKaq"
      },
      "execution_count": null,
      "outputs": []
    },
    {
      "cell_type": "code",
      "source": [
        "x_list = np.linspace(\n",
        "    sbux[\"log_return\"].min(),\n",
        "    sbux[\"log_return\"].max(),\n",
        "    100\n",
        ")\n",
        "\n",
        "y_list = norm.pdf(x_list,\n",
        "                  loc = sbux[\"log_return\"].mean(),\n",
        "                  scale = sbux[\"log_return\"].std()\n",
        ")\n",
        "\n",
        "plt.plot(x_list, y_list)\n",
        "sbux[\"log_return\"].hist(bins = 100, density = True)"
      ],
      "metadata": {
        "id": "yqni3GNbcsKC"
      },
      "execution_count": null,
      "outputs": []
    },
    {
      "cell_type": "code",
      "source": [
        "sm.qqplot(sbux[\"log_return\"].dropna(), line = 's')"
      ],
      "metadata": {
        "id": "CjTMR9J8dCAu"
      },
      "execution_count": null,
      "outputs": []
    },
    {
      "cell_type": "code",
      "source": [
        "# T-Distribution\n",
        "from scipy.stats import t\n",
        "x_list = np.linspace(sbux['return'].min(),\n",
        "                     sbux['return'].max(),100)\n",
        "parms = t.fit(sbux['return'].dropna())\n",
        "print(parms)"
      ],
      "metadata": {
        "id": "Vtunm6VwPlu8"
      },
      "execution_count": null,
      "outputs": []
    },
    {
      "cell_type": "code",
      "source": [
        "df, loc, scale = parms\n",
        "y_list = t.pdf(x_list, df, loc, scale)\n",
        "plt.plot(x_list, y_list)\n",
        "sbux['return'].hist(bins = 100, density = True)"
      ],
      "metadata": {
        "id": "zBEMmpMNegvi"
      },
      "execution_count": null,
      "outputs": []
    },
    {
      "cell_type": "code",
      "source": [
        "# Error will happen\n",
        "sm.qqplot(sbux[\"return\"].dropna(),\n",
        "          dist = t,\n",
        "          line = \"s\")"
      ],
      "metadata": {
        "id": "nscOCFClegpH"
      },
      "execution_count": null,
      "outputs": []
    },
    {
      "cell_type": "code",
      "source": [
        "#Error will happen\n",
        "probplot(sbux[\"return\"].dropna(),\n",
        "         dist = t,\n",
        "         fit = True,\n",
        "         plot = plt)"
      ],
      "metadata": {
        "id": "SPapLC7keglh"
      },
      "execution_count": null,
      "outputs": []
    },
    {
      "cell_type": "code",
      "source": [
        "class myt:\n",
        "  def __init__(self, df):\n",
        "    self.df = df\n",
        "\n",
        "  def fit(self, data):\n",
        "    return x.fit(data)\n",
        "\n",
        "  def ppf(self, x, loc = 0, scale = 1):\n",
        "    return t.ppf(x, self.df, loc, scale)"
      ],
      "metadata": {
        "id": "zlt8JMdbfq0z"
      },
      "execution_count": null,
      "outputs": []
    },
    {
      "cell_type": "code",
      "source": [
        "sm.qqplot(sbux[\"return\"].dropna(),\n",
        "          dist = myt(df),\n",
        "          line = \"s\")"
      ],
      "metadata": {
        "id": "XrpYJlOOgAWJ"
      },
      "execution_count": null,
      "outputs": []
    },
    {
      "cell_type": "code",
      "source": [
        "probplot(sbux[\"return\"].dropna(),\n",
        "         dist = myt(df),\n",
        "         fit = True,\n",
        "         plot = plt)"
      ],
      "metadata": {
        "id": "I9LOe8DagK64"
      },
      "execution_count": null,
      "outputs": []
    },
    {
      "cell_type": "code",
      "source": [
        "# Skewness and Kurtosis\n",
        "\"\"\"\n",
        "kurtosis = 3\n",
        "kurtosis > 3: fat tails\n",
        "kurtosis < 3: thin tails\n",
        "\"\"\"\n",
        "\n",
        "\"\"\"\n",
        "skewness = 0\n",
        "skewness > 0: right skewed\n",
        "skewness < 0: left skewed\n",
        "\"\"\"\n",
        "\n",
        "sbux[\"return\"].skew(), sbux[\"return\"].kurtosis()"
      ],
      "metadata": {
        "id": "KmNEW8Q1h6pF"
      },
      "execution_count": null,
      "outputs": []
    },
    {
      "cell_type": "code",
      "source": [
        "# Conifdence Intrevals\n",
        "\"\"\"\n",
        "More Data -> More Accurate\n",
        "Less Data -> Less Accurate\n",
        "\"\"\"\n",
        "\n",
        "value = sbux[\"return\"].dropna().to_numpy()\n",
        "\n",
        "m = value.mean()\n",
        "s = value.std(ddof = 1)\n",
        "\n",
        "low = m - 1.96 * s / np.sqrt(len(value))\n",
        "high = m + 1.96 * s / np.sqrt(len(value))\n",
        "\n",
        "sbux[\"return\"].hist(bins = 100, density = True)\n",
        "plt.axvline(m, label = \"mean\", color = 'red')\n",
        "plt.axvline(low, label =\"low\",  color = 'green')\n",
        "plt.axvline(high, label = \"high\", color = 'yellow')\n",
        "plt.legend()"
      ],
      "metadata": {
        "id": "57RRC9OlPlro"
      },
      "execution_count": null,
      "outputs": []
    },
    {
      "cell_type": "code",
      "source": [
        "plt.axvline(m, label = \"mean\", color = 'red')\n",
        "plt.axvline(low, label =\"low\",  color = 'green')\n",
        "plt.axvline(high, label = \"high\", color = 'yellow')\n",
        "plt.axvline(0, label = \"Zero\", color = \"blue\")\n",
        "plt.legend()"
      ],
      "metadata": {
        "id": "z2bS_ybInVj4"
      },
      "execution_count": null,
      "outputs": []
    },
    {
      "cell_type": "code",
      "source": [
        "# Statistical Testing\n",
        "from scipy.stats import jarque_bera, normaltest\n",
        "\n",
        "jb = jarque_bera(value)\n",
        "print(jb)\n",
        "print(normaltest(value))"
      ],
      "metadata": {
        "id": "A76xJUgQPu4x"
      },
      "execution_count": null,
      "outputs": []
    },
    {
      "cell_type": "code",
      "source": [
        "from scipy.stats import kstest\n",
        "\n",
        "df, loc, scale = t.fit(value)\n",
        "def cdf(x):\n",
        "  return t.cdf(x, df, loc, scale)\n",
        "\n",
        "ks = kstest(value, cdf)\n",
        "print(ks)"
      ],
      "metadata": {
        "id": "qctIH1k3rA7Q"
      },
      "execution_count": null,
      "outputs": []
    },
    {
      "cell_type": "code",
      "source": [
        "from scipy.stats import ttest_1samp\n",
        "\n",
        "ttest_1samp(value, 0)"
      ],
      "metadata": {
        "id": "LM45krCTrfww"
      },
      "execution_count": null,
      "outputs": []
    },
    {
      "cell_type": "code",
      "source": [
        "# Covariance and Correlation\n",
        "close = pd.read_csv('sp500_close.csv', index_col = 0, parse_dates = True)\n",
        "\n",
        "symbols = [\"AAPL\", \"IBM\", \"GOOG\", \"NFLX\", \"SBUX\"]\n",
        "subs = close[symbols].copy()\n",
        "subs.dropna(axis = 0, how = \"all\", inplace = True)\n",
        "subs.head()"
      ],
      "metadata": {
        "id": "WWERt_TmPu2m"
      },
      "execution_count": null,
      "outputs": []
    },
    {
      "cell_type": "code",
      "source": [
        "for symbol in symbols:\n",
        "  subs[symbol + '_prev'] = subs[symbol].shift(1)\n",
        "  subs[symbol + '_return'] = subs[symbol] / subs[symbol + '_prev'] - 1\n",
        "\n",
        "rets = subs[[symbol +\"_return\" for symbol in symbols]].copy()\n",
        "rets.head()"
      ],
      "metadata": {
        "id": "wOu36W8JvFps"
      },
      "execution_count": null,
      "outputs": []
    },
    {
      "cell_type": "code",
      "source": [
        "import seaborn as sns\n",
        "sns.pairplot(rets)"
      ],
      "metadata": {
        "id": "iyRpVNxAvrdW"
      },
      "execution_count": null,
      "outputs": []
    },
    {
      "cell_type": "code",
      "source": [
        "rets.mean(), rets.std()"
      ],
      "metadata": {
        "id": "pNoB5XZXwAST"
      },
      "execution_count": null,
      "outputs": []
    },
    {
      "cell_type": "code",
      "source": [
        "plt.scatter(rets.std(), rets.mean())\n",
        "plt.xlabel(\"Volatility\")\n",
        "plt.ylabel(\"Return\")"
      ],
      "metadata": {
        "id": "5RXhP-hdwFbq"
      },
      "execution_count": null,
      "outputs": []
    },
    {
      "cell_type": "code",
      "source": [
        "rets.corr(), rets.cov()"
      ],
      "metadata": {
        "id": "n7B-C2RKwSCY"
      },
      "execution_count": null,
      "outputs": []
    },
    {
      "cell_type": "code",
      "source": [
        "# Alpha and Beta\n",
        "\"\"\"\n",
        "Alpha -> how much better/worse an asset Performs\n",
        "Beta -> how much more/less volatile an asset is\n",
        "\"\"\"\n",
        "spy = pd.read_csv('SPY.csv', index_col = 0, parse_dates = True)\n",
        "spy.head()\n",
        "\n",
        "spy[\"SPY\"] = spy[\"Close\"].pct_change(1)\n",
        "\n",
        "index = pd.read_csv(\"sp500sub.csv\", index_col = 0, parse_dates = True)\n",
        "\n",
        "aapl = index[index[\"Name\"] == \"AAPL\"].copy()\n",
        "aapl[\"AAPL\"] = aapl[\"Close\"].pct_change(1)\n",
        "\n",
        "joined = aapl[[\"AAPL\"]].join(spy[\"SPY\"])\n",
        "joined.head()"
      ],
      "metadata": {
        "id": "tUNIxweQPu0q"
      },
      "execution_count": null,
      "outputs": []
    },
    {
      "cell_type": "code",
      "source": [
        "joined.iloc[100:150].plot(figsize = (10,5))"
      ],
      "metadata": {
        "id": "LjavSQKhzH7_"
      },
      "execution_count": null,
      "outputs": []
    },
    {
      "cell_type": "code",
      "source": [
        "joined.plot.scatter(y = \"AAPL\", x = \"SPY\")"
      ],
      "metadata": {
        "id": "v_O_jyLczYIL"
      },
      "execution_count": null,
      "outputs": []
    },
    {
      "cell_type": "code",
      "source": [
        "# Make the dataset\n",
        "joined.dropna(inplace = True)\n",
        "x = joined[[\"AAPL\"]].to_numpy()\n",
        "y = joined[[\"SPY\"]].to_numpy()"
      ],
      "metadata": {
        "id": "lEZPK-1jzcjF"
      },
      "execution_count": null,
      "outputs": []
    },
    {
      "cell_type": "code",
      "source": [
        "from sklearn.linear_model import LinearRegression\n",
        "\n",
        "model = LinearRegression()\n",
        "model.fit(x,y)\n",
        "\n",
        "x_predict = np.linspace(x.min(), x.max(), 5).reshape(-1,1)\n",
        "y_predict = model.predict(x_predict)\n",
        "\n",
        "plt.scatter(x,y)\n",
        "plt.xlabel(\"SPY\")\n",
        "plt.ylabel(\"AAPL\")\n",
        "plt.plot(x_predict, y_predict)"
      ],
      "metadata": {
        "id": "MBidrpgKzpqt"
      },
      "execution_count": null,
      "outputs": []
    },
    {
      "cell_type": "code",
      "source": [
        "beta = model.coef_\n",
        "alpha = model.intercept_\n",
        "print(\"Beta Result: \", beta, \"Alpha Result: \", alpha)"
      ],
      "metadata": {
        "id": "izoWQ6tHA8eG"
      },
      "execution_count": null,
      "outputs": []
    },
    {
      "cell_type": "code",
      "source": [
        "# Manual Calculation for same graph\n",
        "y_pred = beta * y_predict + alpha\n",
        "plt.scatter(x,y)\n",
        "plt.xlabel(\"SPY\")\n",
        "plt.ylabel(\"AAPL\")\n",
        "plt.plot(x_predict, y_pred)"
      ],
      "metadata": {
        "id": "lwJIn-i8BhuW"
      },
      "execution_count": null,
      "outputs": []
    },
    {
      "cell_type": "code",
      "source": [
        "joined['AAPL'].std()/joined['SPY'].std()"
      ],
      "metadata": {
        "id": "DP3xgkA5B1MB"
      },
      "execution_count": null,
      "outputs": []
    },
    {
      "cell_type": "code",
      "source": [
        "# Mixture of Gaussians\n",
        "from sklearn.mixture import GaussianMixture\n",
        "\n",
        "data = sbux['log_return'].dropna().to_numpy().reshape(-1,1)\n",
        "model = GaussianMixture(n_components = 2)\n",
        "model.fit(data)\n",
        "\n",
        "weights = model.weights_\n",
        "means = model.means_\n",
        "cov = model.covariances_\n",
        "\n",
        "print(\"Weights: \", weights)\n",
        "print(\"Means: \", means)\n",
        "print(\"Variances: \", cov)"
      ],
      "metadata": {
        "id": "y39iWjqkPuyS"
      },
      "execution_count": null,
      "outputs": []
    },
    {
      "cell_type": "code",
      "source": [
        "means = means.flatten()\n",
        "var = cov.flatten()"
      ],
      "metadata": {
        "id": "L8u8vgyMFGMN"
      },
      "execution_count": null,
      "outputs": []
    },
    {
      "cell_type": "code",
      "source": [
        "x_list = np.linspace(data.min(), data.max(), 100)\n",
        "fx0 = norm.pdf(x_list, loc = means[0], scale = np.sqrt(var[0]))\n",
        "fx1 = norm.pdf(x_list, loc = means[1], scale = np.sqrt(var[1]))\n",
        "fx = weights[0] * fx0 + weights[1] * fx1\n",
        "\n",
        "plt.plot(x_list, fx)\n",
        "sbux['log_return'].hist(bins = 100, density = True)\n",
        "plt.plot(x_list, fx, label = \"mixture model\")\n",
        "plt.legend()"
      ],
      "metadata": {
        "id": "oOE8bP6lFPhM"
      },
      "execution_count": null,
      "outputs": []
    },
    {
      "cell_type": "code",
      "source": [
        "# Volaitily Clustering\n",
        "for i, symbol in enumerate(rets.columns):\n",
        "  plt.subplot(len(rets.columns), 1, i + 1)\n",
        "  plt.title(symbol)\n",
        "  rets[symbol].plot(figsize = (12,18))"
      ],
      "metadata": {
        "id": "6-EW60dxGLeP"
      },
      "execution_count": null,
      "outputs": []
    },
    {
      "cell_type": "code",
      "source": [
        "# Price Simulation\n",
        "p0 = sbux.iloc[-1][\"close\"]\n",
        "price = [p0]\n",
        "returns = sbux[\"return\"].dropna()\n",
        "\n",
        "for _ in range(100):\n",
        "  p = price[-1] * (1 + np.random.choice(returns))\n",
        "  price.append(p)\n",
        "\n",
        "plt.plot(price)"
      ],
      "metadata": {
        "id": "NVgSbu8lPuwG"
      },
      "execution_count": null,
      "outputs": []
    },
    {
      "cell_type": "code",
      "source": [
        "df, loc, scale = t.fit(sbux[\"return\"].dropna())\n",
        "p0 = sbux.iloc[-1][\"close\"]\n",
        "price = [p0]\n",
        "\n",
        "for _ in range(100):\n",
        "  r = t.rvs(df, loc, scale)\n",
        "  p = price[-1] * (1 + r)\n",
        "  price.append(p)\n",
        "\n",
        "plt.plot(price)"
      ],
      "metadata": {
        "id": "S82fjmM8H98o"
      },
      "execution_count": null,
      "outputs": []
    },
    {
      "cell_type": "markdown",
      "source": [
        "# Time Series Analysis"
      ],
      "metadata": {
        "id": "JRShFQdWbYoq"
      }
    },
    {
      "cell_type": "code",
      "source": [],
      "metadata": {
        "id": "U--LyBLHbbGx"
      },
      "execution_count": null,
      "outputs": []
    },
    {
      "cell_type": "code",
      "source": [],
      "metadata": {
        "id": "8iMj1XIObcQj"
      },
      "execution_count": null,
      "outputs": []
    },
    {
      "cell_type": "code",
      "source": [],
      "metadata": {
        "id": "cZ0bkBYPbcFY"
      },
      "execution_count": null,
      "outputs": []
    }
  ]
}